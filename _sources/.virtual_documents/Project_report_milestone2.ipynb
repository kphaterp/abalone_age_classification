from IPython.display import Image
Image("../results/eda/target_distribution.png")


Image("../results/eda/histograms.png")


Image("../results/eda/sex_dist.png")


Image("../results/eda/correlation_map.png")
